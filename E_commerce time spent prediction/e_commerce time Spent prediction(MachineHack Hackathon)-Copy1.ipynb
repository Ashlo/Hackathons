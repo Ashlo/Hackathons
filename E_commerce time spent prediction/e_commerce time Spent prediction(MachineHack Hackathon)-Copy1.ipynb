{
 "cells": [
  {
   "cell_type": "code",
   "execution_count": 115,
   "metadata": {},
   "outputs": [
    {
     "data": {
      "text/plain": [
       "['Submission.csv',\n",
       " 'e_commerce time Spent prediction(MachineHack Hackathon)-Copy1.ipynb',\n",
       " 'Sample Submission.csv',\n",
       " 'Sub1.csv',\n",
       " 'Train.csv',\n",
       " '.ipynb_checkpoints',\n",
       " 'Submission2.csv',\n",
       " 'Test.csv',\n",
       " 'e_commerce time Spent prediction(MachineHack Hackathon).ipynb']"
      ]
     },
     "execution_count": 115,
     "metadata": {},
     "output_type": "execute_result"
    }
   ],
   "source": [
    "import os\n",
    "os.listdir()"
   ]
  },
  {
   "cell_type": "code",
   "execution_count": 116,
   "metadata": {},
   "outputs": [],
   "source": [
    "import pandas as pd\n",
    "import numpy as np"
   ]
  },
  {
   "cell_type": "code",
   "execution_count": 117,
   "metadata": {},
   "outputs": [],
   "source": [
    "df_train = pd.read_csv(\"Train.csv\")\n",
    "df_test = pd.read_csv(\"Test.csv\")\n",
    "df_sample = pd.read_csv(\"Sample Submission.csv\")"
   ]
  },
  {
   "cell_type": "code",
   "execution_count": 118,
   "metadata": {},
   "outputs": [
    {
     "data": {
      "text/html": [
       "<div>\n",
       "<style scoped>\n",
       "    .dataframe tbody tr th:only-of-type {\n",
       "        vertical-align: middle;\n",
       "    }\n",
       "\n",
       "    .dataframe tbody tr th {\n",
       "        vertical-align: top;\n",
       "    }\n",
       "\n",
       "    .dataframe thead th {\n",
       "        text-align: right;\n",
       "    }\n",
       "</style>\n",
       "<table border=\"1\" class=\"dataframe\">\n",
       "  <thead>\n",
       "    <tr style=\"text-align: right;\">\n",
       "      <th></th>\n",
       "      <th>session_id</th>\n",
       "      <th>session_number</th>\n",
       "      <th>client_agent</th>\n",
       "      <th>device_details</th>\n",
       "      <th>date</th>\n",
       "      <th>purchased</th>\n",
       "      <th>added_in_cart</th>\n",
       "      <th>checked_out</th>\n",
       "      <th>time_spent</th>\n",
       "    </tr>\n",
       "  </thead>\n",
       "  <tbody>\n",
       "    <tr>\n",
       "      <th>0</th>\n",
       "      <td>57f879e70d3c5fc2a98102d64c9fd84e</td>\n",
       "      <td>715</td>\n",
       "      <td>Mozilla/5.0 (Windows NT 6.1; WOW64) AppleWebKi...</td>\n",
       "      <td>Desktop - Chrome</td>\n",
       "      <td>2020-01-22</td>\n",
       "      <td>1</td>\n",
       "      <td>0</td>\n",
       "      <td>0</td>\n",
       "      <td>236.886</td>\n",
       "    </tr>\n",
       "    <tr>\n",
       "      <th>1</th>\n",
       "      <td>a5442b0c7c33d0a811e7661e556b2de8</td>\n",
       "      <td>55</td>\n",
       "      <td>Product/8.0 iPhone/8.1.3</td>\n",
       "      <td>iPhone - iOS</td>\n",
       "      <td>2020-02-27</td>\n",
       "      <td>1</td>\n",
       "      <td>0</td>\n",
       "      <td>0</td>\n",
       "      <td>1277.455</td>\n",
       "    </tr>\n",
       "    <tr>\n",
       "      <th>2</th>\n",
       "      <td>305cb1486ed8610c00b37007926cb2c4</td>\n",
       "      <td>11</td>\n",
       "      <td>Mozilla/5.0 (iPhone; CPU iPhone OS 7_1_2 like ...</td>\n",
       "      <td>iPhone - MobileWeb</td>\n",
       "      <td>2019-08-01</td>\n",
       "      <td>0</td>\n",
       "      <td>0</td>\n",
       "      <td>0</td>\n",
       "      <td>21.704</td>\n",
       "    </tr>\n",
       "    <tr>\n",
       "      <th>3</th>\n",
       "      <td>f2c1ecc9993f0071df91ba178450498c</td>\n",
       "      <td>2794</td>\n",
       "      <td>Mozilla/5.0 (compatible; MSIE 9.0; Windows NT ...</td>\n",
       "      <td>Desktop - IE</td>\n",
       "      <td>2019-12-30</td>\n",
       "      <td>0</td>\n",
       "      <td>1</td>\n",
       "      <td>0</td>\n",
       "      <td>455.201</td>\n",
       "    </tr>\n",
       "    <tr>\n",
       "      <th>4</th>\n",
       "      <td>e460830ae295e55d2216ebdc761ab9a6</td>\n",
       "      <td>3674</td>\n",
       "      <td>Mozilla/5.0 (iPhone; CPU iPhone OS 7_1_1 like ...</td>\n",
       "      <td>iPhone - Web</td>\n",
       "      <td>2019-09-10</td>\n",
       "      <td>0</td>\n",
       "      <td>0</td>\n",
       "      <td>0</td>\n",
       "      <td>1164.877</td>\n",
       "    </tr>\n",
       "  </tbody>\n",
       "</table>\n",
       "</div>"
      ],
      "text/plain": [
       "                         session_id  session_number  \\\n",
       "0  57f879e70d3c5fc2a98102d64c9fd84e             715   \n",
       "1  a5442b0c7c33d0a811e7661e556b2de8              55   \n",
       "2  305cb1486ed8610c00b37007926cb2c4              11   \n",
       "3  f2c1ecc9993f0071df91ba178450498c            2794   \n",
       "4  e460830ae295e55d2216ebdc761ab9a6            3674   \n",
       "\n",
       "                                        client_agent      device_details  \\\n",
       "0  Mozilla/5.0 (Windows NT 6.1; WOW64) AppleWebKi...    Desktop - Chrome   \n",
       "1                           Product/8.0 iPhone/8.1.3        iPhone - iOS   \n",
       "2  Mozilla/5.0 (iPhone; CPU iPhone OS 7_1_2 like ...  iPhone - MobileWeb   \n",
       "3  Mozilla/5.0 (compatible; MSIE 9.0; Windows NT ...        Desktop - IE   \n",
       "4  Mozilla/5.0 (iPhone; CPU iPhone OS 7_1_1 like ...        iPhone - Web   \n",
       "\n",
       "         date  purchased  added_in_cart  checked_out  time_spent  \n",
       "0  2020-01-22          1              0            0     236.886  \n",
       "1  2020-02-27          1              0            0    1277.455  \n",
       "2  2019-08-01          0              0            0      21.704  \n",
       "3  2019-12-30          0              1            0     455.201  \n",
       "4  2019-09-10          0              0            0    1164.877  "
      ]
     },
     "execution_count": 118,
     "metadata": {},
     "output_type": "execute_result"
    }
   ],
   "source": [
    "df_train.head()"
   ]
  },
  {
   "cell_type": "code",
   "execution_count": 119,
   "metadata": {},
   "outputs": [
    {
     "data": {
      "text/plain": [
       "session_number    0.078437\n",
       "purchased         0.200762\n",
       "added_in_cart     0.209807\n",
       "checked_out       0.157765\n",
       "time_spent        1.000000\n",
       "dtype: float64"
      ]
     },
     "execution_count": 119,
     "metadata": {},
     "output_type": "execute_result"
    }
   ],
   "source": [
    "df_train.corrwith(df_train['time_spent'],method='pearson')"
   ]
  },
  {
   "cell_type": "code",
   "execution_count": 120,
   "metadata": {},
   "outputs": [
    {
     "name": "stderr",
     "output_type": "stream",
     "text": [
      "/home/sunbeam/anaconda3/lib/python3.7/site-packages/ipykernel_launcher.py:13: FutureWarning: The pandas.datetime class is deprecated and will be removed from pandas in a future version. Import from datetime module instead.\n",
      "  del sys.path[0]\n",
      "/home/sunbeam/anaconda3/lib/python3.7/site-packages/ipykernel_launcher.py:14: FutureWarning: The pandas.datetime class is deprecated and will be removed from pandas in a future version. Import from datetime module instead.\n",
      "  \n"
     ]
    }
   ],
   "source": [
    "df_train[\"date\"] = pd.to_datetime(df_train['date'])\n",
    "df_test[\"date\"] = pd.to_datetime(df_test['date'])\n",
    "\n",
    "df_train[\"year\"] = df_train['date'].dt.year\n",
    "df_test[\"year\"] = df_test['date'].dt.year\n",
    "\n",
    "df_train[\"month\"] = df_train['date'].dt.month\n",
    "df_test[\"month\"] = df_test['date'].dt.month\n",
    "\n",
    "df_train['day']= df_train['date'].dt.day\n",
    "df_test[\"day\"] = df_test['date'].dt.day\n",
    "\n",
    "df_train['diff_date'] = ((df_train['date'] - pd.datetime(1970,1,1)).dt.total_seconds())/(10**6)\n",
    "df_test['diff_date'] = ((df_test['date'] - pd.datetime(1970,1,1)).dt.total_seconds())/(10**6)"
   ]
  },
  {
   "cell_type": "code",
   "execution_count": 121,
   "metadata": {},
   "outputs": [
    {
     "data": {
      "text/html": [
       "<div>\n",
       "<style scoped>\n",
       "    .dataframe tbody tr th:only-of-type {\n",
       "        vertical-align: middle;\n",
       "    }\n",
       "\n",
       "    .dataframe tbody tr th {\n",
       "        vertical-align: top;\n",
       "    }\n",
       "\n",
       "    .dataframe thead th {\n",
       "        text-align: right;\n",
       "    }\n",
       "</style>\n",
       "<table border=\"1\" class=\"dataframe\">\n",
       "  <thead>\n",
       "    <tr style=\"text-align: right;\">\n",
       "      <th></th>\n",
       "      <th>session_id</th>\n",
       "      <th>session_number</th>\n",
       "      <th>client_agent</th>\n",
       "      <th>device_details</th>\n",
       "      <th>date</th>\n",
       "      <th>purchased</th>\n",
       "      <th>added_in_cart</th>\n",
       "      <th>checked_out</th>\n",
       "      <th>time_spent</th>\n",
       "      <th>year</th>\n",
       "      <th>month</th>\n",
       "      <th>day</th>\n",
       "      <th>diff_date</th>\n",
       "    </tr>\n",
       "  </thead>\n",
       "  <tbody>\n",
       "    <tr>\n",
       "      <th>0</th>\n",
       "      <td>57f879e70d3c5fc2a98102d64c9fd84e</td>\n",
       "      <td>715</td>\n",
       "      <td>Mozilla/5.0 (Windows NT 6.1; WOW64) AppleWebKi...</td>\n",
       "      <td>Desktop - Chrome</td>\n",
       "      <td>2020-01-22</td>\n",
       "      <td>1</td>\n",
       "      <td>0</td>\n",
       "      <td>0</td>\n",
       "      <td>236.886</td>\n",
       "      <td>2020</td>\n",
       "      <td>1</td>\n",
       "      <td>22</td>\n",
       "      <td>1579.6512</td>\n",
       "    </tr>\n",
       "    <tr>\n",
       "      <th>1</th>\n",
       "      <td>a5442b0c7c33d0a811e7661e556b2de8</td>\n",
       "      <td>55</td>\n",
       "      <td>Product/8.0 iPhone/8.1.3</td>\n",
       "      <td>iPhone - iOS</td>\n",
       "      <td>2020-02-27</td>\n",
       "      <td>1</td>\n",
       "      <td>0</td>\n",
       "      <td>0</td>\n",
       "      <td>1277.455</td>\n",
       "      <td>2020</td>\n",
       "      <td>2</td>\n",
       "      <td>27</td>\n",
       "      <td>1582.7616</td>\n",
       "    </tr>\n",
       "    <tr>\n",
       "      <th>2</th>\n",
       "      <td>305cb1486ed8610c00b37007926cb2c4</td>\n",
       "      <td>11</td>\n",
       "      <td>Mozilla/5.0 (iPhone; CPU iPhone OS 7_1_2 like ...</td>\n",
       "      <td>iPhone - MobileWeb</td>\n",
       "      <td>2019-08-01</td>\n",
       "      <td>0</td>\n",
       "      <td>0</td>\n",
       "      <td>0</td>\n",
       "      <td>21.704</td>\n",
       "      <td>2019</td>\n",
       "      <td>8</td>\n",
       "      <td>1</td>\n",
       "      <td>1564.6176</td>\n",
       "    </tr>\n",
       "    <tr>\n",
       "      <th>3</th>\n",
       "      <td>f2c1ecc9993f0071df91ba178450498c</td>\n",
       "      <td>2794</td>\n",
       "      <td>Mozilla/5.0 (compatible; MSIE 9.0; Windows NT ...</td>\n",
       "      <td>Desktop - IE</td>\n",
       "      <td>2019-12-30</td>\n",
       "      <td>0</td>\n",
       "      <td>1</td>\n",
       "      <td>0</td>\n",
       "      <td>455.201</td>\n",
       "      <td>2019</td>\n",
       "      <td>12</td>\n",
       "      <td>30</td>\n",
       "      <td>1577.6640</td>\n",
       "    </tr>\n",
       "    <tr>\n",
       "      <th>4</th>\n",
       "      <td>e460830ae295e55d2216ebdc761ab9a6</td>\n",
       "      <td>3674</td>\n",
       "      <td>Mozilla/5.0 (iPhone; CPU iPhone OS 7_1_1 like ...</td>\n",
       "      <td>iPhone - Web</td>\n",
       "      <td>2019-09-10</td>\n",
       "      <td>0</td>\n",
       "      <td>0</td>\n",
       "      <td>0</td>\n",
       "      <td>1164.877</td>\n",
       "      <td>2019</td>\n",
       "      <td>9</td>\n",
       "      <td>10</td>\n",
       "      <td>1568.0736</td>\n",
       "    </tr>\n",
       "  </tbody>\n",
       "</table>\n",
       "</div>"
      ],
      "text/plain": [
       "                         session_id  session_number  \\\n",
       "0  57f879e70d3c5fc2a98102d64c9fd84e             715   \n",
       "1  a5442b0c7c33d0a811e7661e556b2de8              55   \n",
       "2  305cb1486ed8610c00b37007926cb2c4              11   \n",
       "3  f2c1ecc9993f0071df91ba178450498c            2794   \n",
       "4  e460830ae295e55d2216ebdc761ab9a6            3674   \n",
       "\n",
       "                                        client_agent      device_details  \\\n",
       "0  Mozilla/5.0 (Windows NT 6.1; WOW64) AppleWebKi...    Desktop - Chrome   \n",
       "1                           Product/8.0 iPhone/8.1.3        iPhone - iOS   \n",
       "2  Mozilla/5.0 (iPhone; CPU iPhone OS 7_1_2 like ...  iPhone - MobileWeb   \n",
       "3  Mozilla/5.0 (compatible; MSIE 9.0; Windows NT ...        Desktop - IE   \n",
       "4  Mozilla/5.0 (iPhone; CPU iPhone OS 7_1_1 like ...        iPhone - Web   \n",
       "\n",
       "        date  purchased  added_in_cart  checked_out  time_spent  year  month  \\\n",
       "0 2020-01-22          1              0            0     236.886  2020      1   \n",
       "1 2020-02-27          1              0            0    1277.455  2020      2   \n",
       "2 2019-08-01          0              0            0      21.704  2019      8   \n",
       "3 2019-12-30          0              1            0     455.201  2019     12   \n",
       "4 2019-09-10          0              0            0    1164.877  2019      9   \n",
       "\n",
       "   day  diff_date  \n",
       "0   22  1579.6512  \n",
       "1   27  1582.7616  \n",
       "2    1  1564.6176  \n",
       "3   30  1577.6640  \n",
       "4   10  1568.0736  "
      ]
     },
     "execution_count": 121,
     "metadata": {},
     "output_type": "execute_result"
    }
   ],
   "source": [
    "df_train.head()"
   ]
  },
  {
   "cell_type": "raw",
   "metadata": {},
   "source": [
    "df"
   ]
  },
  {
   "cell_type": "code",
   "execution_count": 122,
   "metadata": {},
   "outputs": [],
   "source": [
    "df_train.drop(['session_id'],axis = 'columns',inplace=True)"
   ]
  },
  {
   "cell_type": "code",
   "execution_count": 123,
   "metadata": {},
   "outputs": [
    {
     "data": {
      "text/plain": [
       "session_number    0.078437\n",
       "purchased         0.200762\n",
       "added_in_cart     0.209807\n",
       "checked_out       0.157765\n",
       "time_spent        1.000000\n",
       "year             -0.030843\n",
       "month             0.013367\n",
       "day              -0.030206\n",
       "diff_date        -0.046154\n",
       "dtype: float64"
      ]
     },
     "execution_count": 123,
     "metadata": {},
     "output_type": "execute_result"
    }
   ],
   "source": [
    "df_train.corrwith(df_train['time_spent'],method='pearson')"
   ]
  },
  {
   "cell_type": "code",
   "execution_count": 124,
   "metadata": {},
   "outputs": [
    {
     "data": {
      "text/plain": [
       "False    5269\n",
       "True      160\n",
       "Name: client_agent, dtype: int64"
      ]
     },
     "execution_count": 124,
     "metadata": {},
     "output_type": "execute_result"
    }
   ],
   "source": [
    "df_train['client_agent'].isna().value_counts()"
   ]
  },
  {
   "cell_type": "code",
   "execution_count": null,
   "metadata": {},
   "outputs": [],
   "source": []
  },
  {
   "cell_type": "code",
   "execution_count": 125,
   "metadata": {},
   "outputs": [
    {
     "data": {
      "text/plain": [
       "Mozilla/5.0 (iPhone; CPU iPhone OS 7_1_1 like Mac OS X) AppleWebKit/537.51.2 (KHTML, like Gecko) Mobile/11D201             209\n",
       "Mozilla/5.0 (Windows NT 6.3; WOW64; Trident/7.0; Touch; rv:11.0) like Gecko                                                163\n",
       "Mozilla/5.0 (Windows NT 6.1; WOW64; Trident/7.0; rv:11.0) like Gecko                                                       148\n",
       "Product/4.2.0 iPhone/7.1.1                                                                                                 146\n",
       "Product/4.7.0 iPhone/8.1.2                                                                                                 144\n",
       "                                                                                                                          ... \n",
       "Product/160314 Android/4.2.2 Device/samsung_GT-I9195 Carrier/3 ITA Type/Mobile                                               1\n",
       "Mozilla/5.0 (Macintosh; Intel Mac OS X 10_8_0) AppleWebKit/537.36 (KHTML, like Gecko) Chrome/37.0.2062.94 Safari/537.36      1\n",
       "Product/6.0 iPhone/7.0.2                                                                                                     1\n",
       "Product/160402 Android/4.4.2 Device/samsung_SM-G900F Carrier/StarHub Type/Mobile                                             1\n",
       "Mozilla/5.0 (Macintosh; Intel Mac OS X 10_9_3) AppleWebKit/537.36 (KHTML, like Gecko) Chrome/39.0.2171.71 Safari/537.36      1\n",
       "Name: client_agent, Length: 698, dtype: int64"
      ]
     },
     "execution_count": 125,
     "metadata": {},
     "output_type": "execute_result"
    }
   ],
   "source": [
    "df_train['client_agent'].value_counts()"
   ]
  },
  {
   "cell_type": "code",
   "execution_count": 126,
   "metadata": {},
   "outputs": [
    {
     "data": {
      "text/plain": [
       "0    Mozilla/5.0 (iPhone; CPU iPhone OS 7_1_1 like ...\n",
       "dtype: object"
      ]
     },
     "execution_count": 126,
     "metadata": {},
     "output_type": "execute_result"
    }
   ],
   "source": [
    "df_train['client_agent'].mode()"
   ]
  },
  {
   "cell_type": "code",
   "execution_count": 127,
   "metadata": {},
   "outputs": [],
   "source": [
    "df_train['client_agent'].fillna(df_train['client_agent'].mode()[0], inplace=True)"
   ]
  },
  {
   "cell_type": "code",
   "execution_count": 128,
   "metadata": {},
   "outputs": [
    {
     "data": {
      "text/plain": [
       "False    5429\n",
       "Name: client_agent, dtype: int64"
      ]
     },
     "execution_count": 128,
     "metadata": {},
     "output_type": "execute_result"
    }
   ],
   "source": [
    "df_train['client_agent'].isna().value_counts()"
   ]
  },
  {
   "cell_type": "code",
   "execution_count": 129,
   "metadata": {},
   "outputs": [
    {
     "data": {
      "text/plain": [
       "0       Mozilla/5.0 (Windows NT 6.1; WOW64) AppleWebKi...\n",
       "1                                Product/8.0 iPhone/8.1.3\n",
       "2       Mozilla/5.0 (iPhone; CPU iPhone OS 7_1_2 like ...\n",
       "3       Mozilla/5.0 (compatible; MSIE 9.0; Windows NT ...\n",
       "4       Mozilla/5.0 (iPhone; CPU iPhone OS 7_1_1 like ...\n",
       "                              ...                        \n",
       "5424    Mozilla/5.0 (iPhone; CPU iPhone OS 8_1 like Ma...\n",
       "5425                           Product/4.2.2 iPhone/7.1.1\n",
       "5426    Mozilla/5.0 (Macintosh; Intel Mac OS X 10_9_4)...\n",
       "5427    Mozilla/5.0 (iPhone; CPU iPhone OS 7_1_1 like ...\n",
       "5428    Mozilla/5.0 (iPhone; CPU iPhone OS 7_0_4 like ...\n",
       "Name: client_agent, Length: 5429, dtype: object"
      ]
     },
     "execution_count": 129,
     "metadata": {},
     "output_type": "execute_result"
    }
   ],
   "source": [
    "df_train['client_agent']"
   ]
  },
  {
   "cell_type": "code",
   "execution_count": 130,
   "metadata": {},
   "outputs": [
    {
     "data": {
      "text/html": [
       "<div>\n",
       "<style scoped>\n",
       "    .dataframe tbody tr th:only-of-type {\n",
       "        vertical-align: middle;\n",
       "    }\n",
       "\n",
       "    .dataframe tbody tr th {\n",
       "        vertical-align: top;\n",
       "    }\n",
       "\n",
       "    .dataframe thead th {\n",
       "        text-align: right;\n",
       "    }\n",
       "</style>\n",
       "<table border=\"1\" class=\"dataframe\">\n",
       "  <thead>\n",
       "    <tr style=\"text-align: right;\">\n",
       "      <th></th>\n",
       "      <th>session_number</th>\n",
       "      <th>client_agent</th>\n",
       "      <th>device_details</th>\n",
       "      <th>date</th>\n",
       "      <th>purchased</th>\n",
       "      <th>added_in_cart</th>\n",
       "      <th>checked_out</th>\n",
       "      <th>time_spent</th>\n",
       "      <th>year</th>\n",
       "      <th>month</th>\n",
       "      <th>day</th>\n",
       "      <th>diff_date</th>\n",
       "    </tr>\n",
       "  </thead>\n",
       "  <tbody>\n",
       "    <tr>\n",
       "      <th>0</th>\n",
       "      <td>715</td>\n",
       "      <td>Mozilla/5.0 (Windows NT 6.1; WOW64) AppleWebKi...</td>\n",
       "      <td>Desktop - Chrome</td>\n",
       "      <td>2020-01-22</td>\n",
       "      <td>1</td>\n",
       "      <td>0</td>\n",
       "      <td>0</td>\n",
       "      <td>236.886</td>\n",
       "      <td>2020</td>\n",
       "      <td>1</td>\n",
       "      <td>22</td>\n",
       "      <td>1579.6512</td>\n",
       "    </tr>\n",
       "    <tr>\n",
       "      <th>1</th>\n",
       "      <td>55</td>\n",
       "      <td>Product/8.0 iPhone/8.1.3</td>\n",
       "      <td>iPhone - iOS</td>\n",
       "      <td>2020-02-27</td>\n",
       "      <td>1</td>\n",
       "      <td>0</td>\n",
       "      <td>0</td>\n",
       "      <td>1277.455</td>\n",
       "      <td>2020</td>\n",
       "      <td>2</td>\n",
       "      <td>27</td>\n",
       "      <td>1582.7616</td>\n",
       "    </tr>\n",
       "    <tr>\n",
       "      <th>2</th>\n",
       "      <td>11</td>\n",
       "      <td>Mozilla/5.0 (iPhone; CPU iPhone OS 7_1_2 like ...</td>\n",
       "      <td>iPhone - MobileWeb</td>\n",
       "      <td>2019-08-01</td>\n",
       "      <td>0</td>\n",
       "      <td>0</td>\n",
       "      <td>0</td>\n",
       "      <td>21.704</td>\n",
       "      <td>2019</td>\n",
       "      <td>8</td>\n",
       "      <td>1</td>\n",
       "      <td>1564.6176</td>\n",
       "    </tr>\n",
       "    <tr>\n",
       "      <th>3</th>\n",
       "      <td>2794</td>\n",
       "      <td>Mozilla/5.0 (compatible; MSIE 9.0; Windows NT ...</td>\n",
       "      <td>Desktop - IE</td>\n",
       "      <td>2019-12-30</td>\n",
       "      <td>0</td>\n",
       "      <td>1</td>\n",
       "      <td>0</td>\n",
       "      <td>455.201</td>\n",
       "      <td>2019</td>\n",
       "      <td>12</td>\n",
       "      <td>30</td>\n",
       "      <td>1577.6640</td>\n",
       "    </tr>\n",
       "    <tr>\n",
       "      <th>4</th>\n",
       "      <td>3674</td>\n",
       "      <td>Mozilla/5.0 (iPhone; CPU iPhone OS 7_1_1 like ...</td>\n",
       "      <td>iPhone - Web</td>\n",
       "      <td>2019-09-10</td>\n",
       "      <td>0</td>\n",
       "      <td>0</td>\n",
       "      <td>0</td>\n",
       "      <td>1164.877</td>\n",
       "      <td>2019</td>\n",
       "      <td>9</td>\n",
       "      <td>10</td>\n",
       "      <td>1568.0736</td>\n",
       "    </tr>\n",
       "  </tbody>\n",
       "</table>\n",
       "</div>"
      ],
      "text/plain": [
       "   session_number                                       client_agent  \\\n",
       "0             715  Mozilla/5.0 (Windows NT 6.1; WOW64) AppleWebKi...   \n",
       "1              55                           Product/8.0 iPhone/8.1.3   \n",
       "2              11  Mozilla/5.0 (iPhone; CPU iPhone OS 7_1_2 like ...   \n",
       "3            2794  Mozilla/5.0 (compatible; MSIE 9.0; Windows NT ...   \n",
       "4            3674  Mozilla/5.0 (iPhone; CPU iPhone OS 7_1_1 like ...   \n",
       "\n",
       "       device_details       date  purchased  added_in_cart  checked_out  \\\n",
       "0    Desktop - Chrome 2020-01-22          1              0            0   \n",
       "1        iPhone - iOS 2020-02-27          1              0            0   \n",
       "2  iPhone - MobileWeb 2019-08-01          0              0            0   \n",
       "3        Desktop - IE 2019-12-30          0              1            0   \n",
       "4        iPhone - Web 2019-09-10          0              0            0   \n",
       "\n",
       "   time_spent  year  month  day  diff_date  \n",
       "0     236.886  2020      1   22  1579.6512  \n",
       "1    1277.455  2020      2   27  1582.7616  \n",
       "2      21.704  2019      8    1  1564.6176  \n",
       "3     455.201  2019     12   30  1577.6640  \n",
       "4    1164.877  2019      9   10  1568.0736  "
      ]
     },
     "execution_count": 130,
     "metadata": {},
     "output_type": "execute_result"
    }
   ],
   "source": [
    "df_train.head()"
   ]
  },
  {
   "cell_type": "code",
   "execution_count": 131,
   "metadata": {},
   "outputs": [],
   "source": [
    "df_train.drop(['session_number'],axis = 'columns',inplace=True)\n"
   ]
  },
  {
   "cell_type": "code",
   "execution_count": 132,
   "metadata": {},
   "outputs": [],
   "source": [
    "from sklearn.preprocessing import LabelEncoder"
   ]
  },
  {
   "cell_type": "code",
   "execution_count": 133,
   "metadata": {},
   "outputs": [
    {
     "data": {
      "text/plain": [
       "iPhone - iOS                  1515\n",
       "Desktop - Chrome               815\n",
       "iPhone - Web                   665\n",
       "Android Phone - Android        326\n",
       "Desktop - Safari               313\n",
       "Desktop - IE                   292\n",
       "iPad - Web                     289\n",
       "iPhone - MobileWeb             277\n",
       "Desktop - Firefox              234\n",
       "Android Tablet - Web           203\n",
       "Other - Other                  185\n",
       "Unknown - MobileWeb             87\n",
       "Android Phone - Web             86\n",
       "iPad - iOS                      77\n",
       "Android Phone - MobileWeb       54\n",
       "Android Tablet - Android         9\n",
       "Android Tablet - MobileWeb       2\n",
       "Name: device_details, dtype: int64"
      ]
     },
     "execution_count": 133,
     "metadata": {},
     "output_type": "execute_result"
    }
   ],
   "source": [
    "df_train['device_details'].value_counts()"
   ]
  },
  {
   "cell_type": "code",
   "execution_count": 134,
   "metadata": {},
   "outputs": [],
   "source": [
    "label_encoder = LabelEncoder()"
   ]
  },
  {
   "cell_type": "code",
   "execution_count": 135,
   "metadata": {},
   "outputs": [],
   "source": [
    "df_train['device_details'] = label_encoder.fit_transform(df_train['device_details'])"
   ]
  },
  {
   "cell_type": "code",
   "execution_count": 136,
   "metadata": {},
   "outputs": [],
   "source": [
    "df_train['client_agent'] = label_encoder.fit_transform(df_train['client_agent'])"
   ]
  },
  {
   "cell_type": "code",
   "execution_count": 137,
   "metadata": {},
   "outputs": [
    {
     "data": {
      "text/html": [
       "<div>\n",
       "<style scoped>\n",
       "    .dataframe tbody tr th:only-of-type {\n",
       "        vertical-align: middle;\n",
       "    }\n",
       "\n",
       "    .dataframe tbody tr th {\n",
       "        vertical-align: top;\n",
       "    }\n",
       "\n",
       "    .dataframe thead th {\n",
       "        text-align: right;\n",
       "    }\n",
       "</style>\n",
       "<table border=\"1\" class=\"dataframe\">\n",
       "  <thead>\n",
       "    <tr style=\"text-align: right;\">\n",
       "      <th></th>\n",
       "      <th>client_agent</th>\n",
       "      <th>device_details</th>\n",
       "      <th>date</th>\n",
       "      <th>purchased</th>\n",
       "      <th>added_in_cart</th>\n",
       "      <th>checked_out</th>\n",
       "      <th>time_spent</th>\n",
       "      <th>year</th>\n",
       "      <th>month</th>\n",
       "      <th>day</th>\n",
       "      <th>diff_date</th>\n",
       "    </tr>\n",
       "  </thead>\n",
       "  <tbody>\n",
       "    <tr>\n",
       "      <th>0</th>\n",
       "      <td>269</td>\n",
       "      <td>6</td>\n",
       "      <td>2020-01-22</td>\n",
       "      <td>1</td>\n",
       "      <td>0</td>\n",
       "      <td>0</td>\n",
       "      <td>236.886</td>\n",
       "      <td>2020</td>\n",
       "      <td>1</td>\n",
       "      <td>22</td>\n",
       "      <td>1579.6512</td>\n",
       "    </tr>\n",
       "    <tr>\n",
       "      <th>1</th>\n",
       "      <td>688</td>\n",
       "      <td>16</td>\n",
       "      <td>2020-02-27</td>\n",
       "      <td>1</td>\n",
       "      <td>0</td>\n",
       "      <td>0</td>\n",
       "      <td>1277.455</td>\n",
       "      <td>2020</td>\n",
       "      <td>2</td>\n",
       "      <td>27</td>\n",
       "      <td>1582.7616</td>\n",
       "    </tr>\n",
       "    <tr>\n",
       "      <th>2</th>\n",
       "      <td>412</td>\n",
       "      <td>14</td>\n",
       "      <td>2019-08-01</td>\n",
       "      <td>0</td>\n",
       "      <td>0</td>\n",
       "      <td>0</td>\n",
       "      <td>21.704</td>\n",
       "      <td>2019</td>\n",
       "      <td>8</td>\n",
       "      <td>1</td>\n",
       "      <td>1564.6176</td>\n",
       "    </tr>\n",
       "    <tr>\n",
       "      <th>3</th>\n",
       "      <td>355</td>\n",
       "      <td>8</td>\n",
       "      <td>2019-12-30</td>\n",
       "      <td>0</td>\n",
       "      <td>1</td>\n",
       "      <td>0</td>\n",
       "      <td>455.201</td>\n",
       "      <td>2019</td>\n",
       "      <td>12</td>\n",
       "      <td>30</td>\n",
       "      <td>1577.6640</td>\n",
       "    </tr>\n",
       "    <tr>\n",
       "      <th>4</th>\n",
       "      <td>407</td>\n",
       "      <td>15</td>\n",
       "      <td>2019-09-10</td>\n",
       "      <td>0</td>\n",
       "      <td>0</td>\n",
       "      <td>0</td>\n",
       "      <td>1164.877</td>\n",
       "      <td>2019</td>\n",
       "      <td>9</td>\n",
       "      <td>10</td>\n",
       "      <td>1568.0736</td>\n",
       "    </tr>\n",
       "  </tbody>\n",
       "</table>\n",
       "</div>"
      ],
      "text/plain": [
       "   client_agent  device_details       date  purchased  added_in_cart  \\\n",
       "0           269               6 2020-01-22          1              0   \n",
       "1           688              16 2020-02-27          1              0   \n",
       "2           412              14 2019-08-01          0              0   \n",
       "3           355               8 2019-12-30          0              1   \n",
       "4           407              15 2019-09-10          0              0   \n",
       "\n",
       "   checked_out  time_spent  year  month  day  diff_date  \n",
       "0            0     236.886  2020      1   22  1579.6512  \n",
       "1            0    1277.455  2020      2   27  1582.7616  \n",
       "2            0      21.704  2019      8    1  1564.6176  \n",
       "3            0     455.201  2019     12   30  1577.6640  \n",
       "4            0    1164.877  2019      9   10  1568.0736  "
      ]
     },
     "execution_count": 137,
     "metadata": {},
     "output_type": "execute_result"
    }
   ],
   "source": [
    "df_train.head()"
   ]
  },
  {
   "cell_type": "code",
   "execution_count": 138,
   "metadata": {},
   "outputs": [],
   "source": [
    "#df_train.drop(['client_agent'],axis = 'columns',inplace=True)\n",
    "df_train.drop(['date'],axis='columns',inplace=True)\n"
   ]
  },
  {
   "cell_type": "code",
   "execution_count": 139,
   "metadata": {},
   "outputs": [],
   "source": [
    "df_test.drop(['session_id'],axis = 'columns',inplace=True)\n",
    "df_test.drop(['session_number'],axis = 'columns',inplace=True)\n",
    "df_test['client_agent'].fillna(df_test['client_agent'].mode()[0], inplace=True)\n",
    "df_test['device_details'] = label_encoder.fit_transform(df_test['device_details'])\n",
    "df_test['client_agent'] = label_encoder.fit_transform(df_test['client_agent'])\n",
    "#df_test.drop(['client_agent'],axis = 'columns',inplace=True)\n",
    "df_test.drop(['date'],axis='columns',inplace=True)\n"
   ]
  },
  {
   "cell_type": "code",
   "execution_count": 140,
   "metadata": {},
   "outputs": [
    {
     "data": {
      "text/html": [
       "<div>\n",
       "<style scoped>\n",
       "    .dataframe tbody tr th:only-of-type {\n",
       "        vertical-align: middle;\n",
       "    }\n",
       "\n",
       "    .dataframe tbody tr th {\n",
       "        vertical-align: top;\n",
       "    }\n",
       "\n",
       "    .dataframe thead th {\n",
       "        text-align: right;\n",
       "    }\n",
       "</style>\n",
       "<table border=\"1\" class=\"dataframe\">\n",
       "  <thead>\n",
       "    <tr style=\"text-align: right;\">\n",
       "      <th></th>\n",
       "      <th>client_agent</th>\n",
       "      <th>device_details</th>\n",
       "      <th>purchased</th>\n",
       "      <th>added_in_cart</th>\n",
       "      <th>checked_out</th>\n",
       "      <th>year</th>\n",
       "      <th>month</th>\n",
       "      <th>day</th>\n",
       "      <th>diff_date</th>\n",
       "    </tr>\n",
       "  </thead>\n",
       "  <tbody>\n",
       "    <tr>\n",
       "      <th>0</th>\n",
       "      <td>174</td>\n",
       "      <td>7</td>\n",
       "      <td>1</td>\n",
       "      <td>0</td>\n",
       "      <td>0</td>\n",
       "      <td>2020</td>\n",
       "      <td>1</td>\n",
       "      <td>7</td>\n",
       "      <td>1578.3552</td>\n",
       "    </tr>\n",
       "    <tr>\n",
       "      <th>1</th>\n",
       "      <td>355</td>\n",
       "      <td>0</td>\n",
       "      <td>0</td>\n",
       "      <td>0</td>\n",
       "      <td>0</td>\n",
       "      <td>2020</td>\n",
       "      <td>2</td>\n",
       "      <td>13</td>\n",
       "      <td>1581.5520</td>\n",
       "    </tr>\n",
       "    <tr>\n",
       "      <th>2</th>\n",
       "      <td>418</td>\n",
       "      <td>15</td>\n",
       "      <td>1</td>\n",
       "      <td>0</td>\n",
       "      <td>0</td>\n",
       "      <td>2019</td>\n",
       "      <td>10</td>\n",
       "      <td>14</td>\n",
       "      <td>1571.0112</td>\n",
       "    </tr>\n",
       "    <tr>\n",
       "      <th>3</th>\n",
       "      <td>238</td>\n",
       "      <td>7</td>\n",
       "      <td>0</td>\n",
       "      <td>0</td>\n",
       "      <td>0</td>\n",
       "      <td>2020</td>\n",
       "      <td>1</td>\n",
       "      <td>26</td>\n",
       "      <td>1579.9968</td>\n",
       "    </tr>\n",
       "    <tr>\n",
       "      <th>4</th>\n",
       "      <td>202</td>\n",
       "      <td>5</td>\n",
       "      <td>0</td>\n",
       "      <td>0</td>\n",
       "      <td>0</td>\n",
       "      <td>2020</td>\n",
       "      <td>1</td>\n",
       "      <td>29</td>\n",
       "      <td>1580.2560</td>\n",
       "    </tr>\n",
       "  </tbody>\n",
       "</table>\n",
       "</div>"
      ],
      "text/plain": [
       "   client_agent  device_details  purchased  added_in_cart  checked_out  year  \\\n",
       "0           174               7          1              0            0  2020   \n",
       "1           355               0          0              0            0  2020   \n",
       "2           418              15          1              0            0  2019   \n",
       "3           238               7          0              0            0  2020   \n",
       "4           202               5          0              0            0  2020   \n",
       "\n",
       "   month  day  diff_date  \n",
       "0      1    7  1578.3552  \n",
       "1      2   13  1581.5520  \n",
       "2     10   14  1571.0112  \n",
       "3      1   26  1579.9968  \n",
       "4      1   29  1580.2560  "
      ]
     },
     "execution_count": 140,
     "metadata": {},
     "output_type": "execute_result"
    }
   ],
   "source": [
    "df_test.head()"
   ]
  },
  {
   "cell_type": "code",
   "execution_count": 158,
   "metadata": {},
   "outputs": [],
   "source": [
    "X = df_train.drop(['time_spent'],axis='columns')\n",
    "y = df_train['time_spent']"
   ]
  },
  {
   "cell_type": "code",
   "execution_count": 157,
   "metadata": {},
   "outputs": [
    {
     "data": {
      "text/html": [
       "<div>\n",
       "<style scoped>\n",
       "    .dataframe tbody tr th:only-of-type {\n",
       "        vertical-align: middle;\n",
       "    }\n",
       "\n",
       "    .dataframe tbody tr th {\n",
       "        vertical-align: top;\n",
       "    }\n",
       "\n",
       "    .dataframe thead th {\n",
       "        text-align: right;\n",
       "    }\n",
       "</style>\n",
       "<table border=\"1\" class=\"dataframe\">\n",
       "  <thead>\n",
       "    <tr style=\"text-align: right;\">\n",
       "      <th></th>\n",
       "      <th>client_agent</th>\n",
       "      <th>device_details</th>\n",
       "      <th>purchased</th>\n",
       "      <th>added_in_cart</th>\n",
       "      <th>checked_out</th>\n",
       "      <th>year</th>\n",
       "      <th>month</th>\n",
       "      <th>day</th>\n",
       "      <th>diff_date</th>\n",
       "      <th>time_spent</th>\n",
       "    </tr>\n",
       "  </thead>\n",
       "  <tbody>\n",
       "    <tr>\n",
       "      <th>0</th>\n",
       "      <td>174</td>\n",
       "      <td>7</td>\n",
       "      <td>1</td>\n",
       "      <td>0</td>\n",
       "      <td>0</td>\n",
       "      <td>2020</td>\n",
       "      <td>1</td>\n",
       "      <td>7</td>\n",
       "      <td>1578.3552</td>\n",
       "      <td>805.470430</td>\n",
       "    </tr>\n",
       "    <tr>\n",
       "      <th>1</th>\n",
       "      <td>355</td>\n",
       "      <td>0</td>\n",
       "      <td>0</td>\n",
       "      <td>0</td>\n",
       "      <td>0</td>\n",
       "      <td>2020</td>\n",
       "      <td>2</td>\n",
       "      <td>13</td>\n",
       "      <td>1581.5520</td>\n",
       "      <td>95.643506</td>\n",
       "    </tr>\n",
       "    <tr>\n",
       "      <th>2</th>\n",
       "      <td>418</td>\n",
       "      <td>15</td>\n",
       "      <td>1</td>\n",
       "      <td>0</td>\n",
       "      <td>0</td>\n",
       "      <td>2019</td>\n",
       "      <td>10</td>\n",
       "      <td>14</td>\n",
       "      <td>1571.0112</td>\n",
       "      <td>938.275883</td>\n",
       "    </tr>\n",
       "    <tr>\n",
       "      <th>3</th>\n",
       "      <td>238</td>\n",
       "      <td>7</td>\n",
       "      <td>0</td>\n",
       "      <td>0</td>\n",
       "      <td>0</td>\n",
       "      <td>2020</td>\n",
       "      <td>1</td>\n",
       "      <td>26</td>\n",
       "      <td>1579.9968</td>\n",
       "      <td>261.418613</td>\n",
       "    </tr>\n",
       "    <tr>\n",
       "      <th>4</th>\n",
       "      <td>202</td>\n",
       "      <td>5</td>\n",
       "      <td>0</td>\n",
       "      <td>0</td>\n",
       "      <td>0</td>\n",
       "      <td>2020</td>\n",
       "      <td>1</td>\n",
       "      <td>29</td>\n",
       "      <td>1580.2560</td>\n",
       "      <td>105.246635</td>\n",
       "    </tr>\n",
       "    <tr>\n",
       "      <th>...</th>\n",
       "      <td>...</td>\n",
       "      <td>...</td>\n",
       "      <td>...</td>\n",
       "      <td>...</td>\n",
       "      <td>...</td>\n",
       "      <td>...</td>\n",
       "      <td>...</td>\n",
       "      <td>...</td>\n",
       "      <td>...</td>\n",
       "      <td>...</td>\n",
       "    </tr>\n",
       "    <tr>\n",
       "      <th>2322</th>\n",
       "      <td>368</td>\n",
       "      <td>9</td>\n",
       "      <td>0</td>\n",
       "      <td>0</td>\n",
       "      <td>0</td>\n",
       "      <td>2019</td>\n",
       "      <td>11</td>\n",
       "      <td>6</td>\n",
       "      <td>1572.9984</td>\n",
       "      <td>113.491715</td>\n",
       "    </tr>\n",
       "    <tr>\n",
       "      <th>2323</th>\n",
       "      <td>164</td>\n",
       "      <td>5</td>\n",
       "      <td>0</td>\n",
       "      <td>1</td>\n",
       "      <td>0</td>\n",
       "      <td>2020</td>\n",
       "      <td>1</td>\n",
       "      <td>18</td>\n",
       "      <td>1579.3056</td>\n",
       "      <td>551.445685</td>\n",
       "    </tr>\n",
       "    <tr>\n",
       "      <th>2324</th>\n",
       "      <td>457</td>\n",
       "      <td>15</td>\n",
       "      <td>0</td>\n",
       "      <td>0</td>\n",
       "      <td>0</td>\n",
       "      <td>2020</td>\n",
       "      <td>1</td>\n",
       "      <td>14</td>\n",
       "      <td>1578.9600</td>\n",
       "      <td>730.804796</td>\n",
       "    </tr>\n",
       "    <tr>\n",
       "      <th>2325</th>\n",
       "      <td>415</td>\n",
       "      <td>12</td>\n",
       "      <td>1</td>\n",
       "      <td>0</td>\n",
       "      <td>0</td>\n",
       "      <td>2019</td>\n",
       "      <td>10</td>\n",
       "      <td>1</td>\n",
       "      <td>1569.8880</td>\n",
       "      <td>530.107380</td>\n",
       "    </tr>\n",
       "    <tr>\n",
       "      <th>2326</th>\n",
       "      <td>363</td>\n",
       "      <td>0</td>\n",
       "      <td>0</td>\n",
       "      <td>1</td>\n",
       "      <td>0</td>\n",
       "      <td>2020</td>\n",
       "      <td>2</td>\n",
       "      <td>22</td>\n",
       "      <td>1582.3296</td>\n",
       "      <td>1034.586387</td>\n",
       "    </tr>\n",
       "  </tbody>\n",
       "</table>\n",
       "<p>2327 rows × 10 columns</p>\n",
       "</div>"
      ],
      "text/plain": [
       "      client_agent  device_details  purchased  added_in_cart  checked_out  \\\n",
       "0              174               7          1              0            0   \n",
       "1              355               0          0              0            0   \n",
       "2              418              15          1              0            0   \n",
       "3              238               7          0              0            0   \n",
       "4              202               5          0              0            0   \n",
       "...            ...             ...        ...            ...          ...   \n",
       "2322           368               9          0              0            0   \n",
       "2323           164               5          0              1            0   \n",
       "2324           457              15          0              0            0   \n",
       "2325           415              12          1              0            0   \n",
       "2326           363               0          0              1            0   \n",
       "\n",
       "      year  month  day  diff_date   time_spent  \n",
       "0     2020      1    7  1578.3552   805.470430  \n",
       "1     2020      2   13  1581.5520    95.643506  \n",
       "2     2019     10   14  1571.0112   938.275883  \n",
       "3     2020      1   26  1579.9968   261.418613  \n",
       "4     2020      1   29  1580.2560   105.246635  \n",
       "...    ...    ...  ...        ...          ...  \n",
       "2322  2019     11    6  1572.9984   113.491715  \n",
       "2323  2020      1   18  1579.3056   551.445685  \n",
       "2324  2020      1   14  1578.9600   730.804796  \n",
       "2325  2019     10    1  1569.8880   530.107380  \n",
       "2326  2020      2   22  1582.3296  1034.586387  \n",
       "\n",
       "[2327 rows x 10 columns]"
      ]
     },
     "execution_count": 157,
     "metadata": {},
     "output_type": "execute_result"
    }
   ],
   "source": []
  },
  {
   "cell_type": "code",
   "execution_count": 143,
   "metadata": {},
   "outputs": [],
   "source": [
    "\n",
    "from sklearn.ensemble import RandomForestRegressor"
   ]
  },
  {
   "cell_type": "code",
   "execution_count": 144,
   "metadata": {},
   "outputs": [],
   "source": [
    "\n",
    "forest = RandomForestRegressor()"
   ]
  },
  {
   "cell_type": "code",
   "execution_count": null,
   "metadata": {},
   "outputs": [],
   "source": []
  },
  {
   "cell_type": "code",
   "execution_count": 145,
   "metadata": {},
   "outputs": [],
   "source": [
    "model_forest = forest.fit(X,y)"
   ]
  },
  {
   "cell_type": "code",
   "execution_count": null,
   "metadata": {},
   "outputs": [],
   "source": []
  },
  {
   "cell_type": "code",
   "execution_count": 146,
   "metadata": {},
   "outputs": [],
   "source": [
    "from sklearn.metrics import mean_squared_log_error"
   ]
  },
  {
   "cell_type": "code",
   "execution_count": 147,
   "metadata": {},
   "outputs": [],
   "source": [
    "forest_pred = model_forest.predict(df_test)"
   ]
  },
  {
   "cell_type": "code",
   "execution_count": 148,
   "metadata": {},
   "outputs": [],
   "source": [
    "df_test['time_spent'] = forest_pred"
   ]
  },
  {
   "cell_type": "code",
   "execution_count": 149,
   "metadata": {},
   "outputs": [],
   "source": [
    "df_test['time_spent'].to_csv(\"Sub2.csv\")"
   ]
  },
  {
   "cell_type": "code",
   "execution_count": 150,
   "metadata": {},
   "outputs": [
    {
     "data": {
      "text/plain": [
       "(2327, 10)"
      ]
     },
     "execution_count": 150,
     "metadata": {},
     "output_type": "execute_result"
    }
   ],
   "source": [
    "df_test.shape"
   ]
  },
  {
   "cell_type": "code",
   "execution_count": 159,
   "metadata": {},
   "outputs": [],
   "source": [
    "df_test.drop(['time_spent'],axis='columns',inplace=True)"
   ]
  },
  {
   "cell_type": "code",
   "execution_count": 151,
   "metadata": {},
   "outputs": [],
   "source": [
    "from sklearn.ensemble import AdaBoostRegressor"
   ]
  },
  {
   "cell_type": "code",
   "execution_count": 152,
   "metadata": {},
   "outputs": [],
   "source": [
    "adboost = AdaBoostRegressor()"
   ]
  },
  {
   "cell_type": "code",
   "execution_count": 153,
   "metadata": {},
   "outputs": [],
   "source": [
    "ada_model = adboost.fit(X,y)"
   ]
  },
  {
   "cell_type": "code",
   "execution_count": 160,
   "metadata": {},
   "outputs": [],
   "source": [
    "ada_pred = ada_model.predict(df_test)"
   ]
  },
  {
   "cell_type": "code",
   "execution_count": 161,
   "metadata": {},
   "outputs": [],
   "source": [
    "df_test['time_spent'] = ada_pred"
   ]
  },
  {
   "cell_type": "code",
   "execution_count": 162,
   "metadata": {},
   "outputs": [],
   "source": [
    "df_test['time_spent'].to_csv('Sub3.csv')"
   ]
  },
  {
   "cell_type": "code",
   "execution_count": null,
   "metadata": {},
   "outputs": [],
   "source": []
  }
 ],
 "metadata": {
  "kernelspec": {
   "display_name": "Python 3",
   "language": "python",
   "name": "python3"
  },
  "language_info": {
   "codemirror_mode": {
    "name": "ipython",
    "version": 3
   },
   "file_extension": ".py",
   "mimetype": "text/x-python",
   "name": "python",
   "nbconvert_exporter": "python",
   "pygments_lexer": "ipython3",
   "version": "3.7.4"
  }
 },
 "nbformat": 4,
 "nbformat_minor": 4
}
